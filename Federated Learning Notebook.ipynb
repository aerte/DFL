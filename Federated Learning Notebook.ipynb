{
 "cells": [
  {
   "cell_type": "markdown",
   "source": [
    "### Notebook to accompany our report\n",
    "\n",
    "All code used for model building was provided by Bo. This notebook is supposed to be a short guide through our process and should give some practical information regarding our project.\n",
    "\n",
    "We \n"
   ],
   "metadata": {
    "collapsed": false
   },
   "id": "add79f4c71071e66"
  },
  {
   "cell_type": "code",
   "execution_count": null,
   "id": "initial_id",
   "metadata": {
    "collapsed": true
   },
   "outputs": [],
   "source": []
  }
 ],
 "metadata": {
  "kernelspec": {
   "display_name": "Python 3",
   "language": "python",
   "name": "python3"
  },
  "language_info": {
   "codemirror_mode": {
    "name": "ipython",
    "version": 2
   },
   "file_extension": ".py",
   "mimetype": "text/x-python",
   "name": "python",
   "nbconvert_exporter": "python",
   "pygments_lexer": "ipython2",
   "version": "2.7.6"
  }
 },
 "nbformat": 4,
 "nbformat_minor": 5
}
